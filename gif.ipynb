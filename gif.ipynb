{
 "cells": [
  {
   "cell_type": "code",
   "execution_count": 2,
   "metadata": {},
   "outputs": [],
   "source": [
    "# import random\n",
    "import numpy as np\n",
    "# import matplotlib.pyplot as plt\n",
    "# import plotly.express as px\n",
    "# import time\n",
    "import os\n",
    "# import cv2\n",
    "from PIL import Image, ImageDraw, ImageOps, ImageColor\n"
   ]
  },
  {
   "cell_type": "code",
   "execution_count": 3,
   "metadata": {},
   "outputs": [],
   "source": [
    "def gen_noise(x, y, rgb=True):\n",
    "    if rgb:\n",
    "        fig_r = np.random.randint(256, size=(x, y), dtype=np.uint8)\n",
    "        fig_g = np.random.randint(256, size=(x, y), dtype=np.uint8)\n",
    "        fig_b = np.random.randint(256, size=(x, y), dtype=np.uint8)\n",
    "        fig = np.stack((fig_r, fig_g, fig_b), axis=2)\n",
    "    else:\n",
    "        fig = np.random.randint(256, size=(x, y), dtype=np.uint8)\n",
    "    return fig\n"
   ]
  },
  {
   "cell_type": "code",
   "execution_count": 4,
   "metadata": {},
   "outputs": [],
   "source": [
    "# def gen_noise_rgb(x, y):\n",
    "#     # X = np.shape(img)[0]\n",
    "#     # Y = np.shape(img)[1]\n",
    "#     # for y in range(Y):\n",
    "#     #     for x in range(X):\n",
    "#     #         bright = random.randint(0, 255)\n",
    "#     #         img[x][y] = [bright, bright, bright]\n",
    "#     fig_r = np.random.randint(256, size=(x, y), dtype=np.uint8)\n",
    "#     fig_g = np.random.randint(256, size=(x, y), dtype=np.uint8)\n",
    "#     fig_b = np.random.randint(256, size=(x, y), dtype=np.uint8)\n",
    "#     fig = np.stack((fig_r, fig_g, fig_b), axis=2)\n",
    "#     return fig"
   ]
  },
  {
   "cell_type": "code",
   "execution_count": 5,
   "metadata": {},
   "outputs": [],
   "source": [
    "def gen_frame(mx, rgb: bool=True):\n",
    "    fig = Image.fromarray(mx)\n",
    "    if rgb:\n",
    "        fig = fig.convert('RGBA')\n",
    "    else:\n",
    "        fig.convert('L')\n",
    "    return fig\n"
   ]
  },
  {
   "cell_type": "code",
   "execution_count": 6,
   "metadata": {},
   "outputs": [],
   "source": [
    "def gen_gif(x: int, y: int, n_frames: int=100, rgb: bool=False):\n",
    "    if not os.path.exists('./images'):\n",
    "        os.mkdir('images')\n",
    "    if not os.path.exists('./videos'):\n",
    "        os.mkdir('videos')\n",
    "\n",
    "    gif = []\n",
    "    for _ in range(n_frames):\n",
    "        if rgb:\n",
    "            img = gen_noise(x, y, rgb)\n",
    "        else:\n",
    "            img = gen_noise(x, y, rgb)\n",
    "        fig = gen_frame(img)\n",
    "        gif.append(fig)\n",
    "\n",
    "    return gif"
   ]
  },
  {
   "cell_type": "code",
   "execution_count": 7,
   "metadata": {},
   "outputs": [],
   "source": [
    "def save_gif(gif, n_frames, framerate_hz: int=30, rgb: bool=False):\n",
    "    if rgb:\n",
    "        fname = f'static_rgb{framerate_hz:02d}'\n",
    "    else:\n",
    "        fname = f'static{framerate_hz:02d}'\n",
    "    gif[0].save(f'./videos/{fname}.gif',\n",
    "        save_all=True, optimize=True, append_images=gif[1:n_frames],\n",
    "        loop=0, duration=1000/framerate_hz)"
   ]
  },
  {
   "cell_type": "code",
   "execution_count": 8,
   "metadata": {},
   "outputs": [],
   "source": [
    "# Create black and white gif\n",
    "# gif = gen_gif(400, 500)\n",
    "# save_gif(gif, 100)\n"
   ]
  },
  {
   "cell_type": "code",
   "execution_count": 9,
   "metadata": {},
   "outputs": [],
   "source": [
    "# Create RGB gif\n",
    "# gif = gen_gif(400, 500, rgb=True)\n",
    "# save_gif(gif, 100)"
   ]
  },
  {
   "cell_type": "code",
   "execution_count": 10,
   "metadata": {},
   "outputs": [],
   "source": [
    "\n",
    "# alpha = Image.new('1', (500, 500))\n",
    "# draw = ImageDraw.Draw(alpha)\n",
    "# draw.ellipse((50, 50, 450, 450), fill='blue', outline='blue')\n",
    "# alpha_inv = ImageOps.invert(alpha.convert('RGB'))\n",
    "# alpha_inv = alpha_inv.convert('1')\n",
    "\n",
    "# gif = []\n",
    "# for _ in range(100):\n",
    "#     fig1 = gen_frame(gen_noise(500, 500))\n",
    "#     fig1.putalpha(alpha)\n",
    "#     fig1 = fig1.convert('RGBA')\n",
    "#     # fig1.show()\n",
    "#     fig2 = gen_frame(gen_noise(500, 500, rgb=False), rgb=False)\n",
    "#     fig2.putalpha(alpha_inv)\n",
    "#     fig2 = fig2.convert('RGBA')\n",
    "#     # fig2.show()\n",
    "#     fig2.paste(fig1, (0,0), alpha)\n",
    "#     fig = fig2\n",
    "#     gif.append(fig)\n",
    "#     # fig.show()\n",
    "\n",
    "# save_gif(gif, 100, rgb=True)\n"
   ]
  },
  {
   "attachments": {},
   "cell_type": "markdown",
   "metadata": {},
   "source": [
    "# Create RGB static with fading RGB background hue as gif at 30 fps"
   ]
  },
  {
   "cell_type": "code",
   "execution_count": 11,
   "metadata": {},
   "outputs": [],
   "source": [
    "\n",
    "Y = 1080\n",
    "X = 1980\n",
    "\n",
    "alpha = Image.new('1', (X, Y))\n",
    "draw = ImageDraw.Draw(alpha)\n",
    "draw.ellipse((50, 50, 450, 450), fill='blue', outline='blue')\n",
    "alpha_inv = ImageOps.invert(alpha.convert('RGB'))\n",
    "alpha_inv = alpha_inv.convert('1')\n",
    "\n",
    "gif = []\n",
    "for hue in range(360):\n",
    "    color = ImageColor.getrgb(f'hsv({hue}, 100%, 100%)')\n",
    "    background = Image.new('RGBA', (X, Y), color)\n",
    "\n",
    "    static = gen_frame(gen_noise(Y, X, rgb=True), rgb=True)\n",
    "\n",
    "    blended = Image.blend(background, static, 0.9)\n",
    "    # blended.putalpha(alpha_inv)\n",
    "\n",
    "    # static.putalpha(alpha)\n",
    "\n",
    "    static_bw = gen_frame(gen_noise(Y, X, rgb=False), rgb=False)\n",
    "    # blended.paste(static_bw, (0, 0), alpha)\n",
    "\n",
    "    # blended = blended.convert('L')\n",
    "\n",
    "    # blended.save(f'./images/img{hue:03d}.png')\n",
    "    gif.append(blended)\n",
    "    # blended.show()\n",
    "\n",
    "save_gif(gif, 360, 30, rgb=True)\n"
   ]
  },
  {
   "cell_type": "code",
   "execution_count": null,
   "metadata": {},
   "outputs": [],
   "source": [
    "# cat = Image.open('/Users/andrewteta/Desktop/IMG_0706-4.bmp')\n",
    "# cat = cat.rotate(-90)\n",
    "# cat.show()\n"
   ]
  },
  {
   "cell_type": "code",
   "execution_count": null,
   "metadata": {},
   "outputs": [],
   "source": [
    "# import cv2\n",
    "\n",
    "image_folder = './images'\n",
    "video_name = 'static_rgb30.mp4'\n",
    "\n",
    "images = [img for img in os.listdir(image_folder) if img.endswith(\".png\")]\n",
    "images.sort()\n",
    "frame = cv2.imread(os.path.join(image_folder, images[0]))\n",
    "height, width, layers = frame.shape\n",
    "\n",
    "fourcc = cv2.VideoWriter_fourcc(*'avc1')\n",
    "video = cv2.VideoWriter(video_name, fourcc, 30, (width, height))\n",
    "\n",
    "for image in images:\n",
    "    video.write(cv2.imread(os.path.join(image_folder, image)))\n",
    "\n",
    "cv2.destroyAllWindows()\n",
    "video.release()\n"
   ]
  },
  {
   "cell_type": "code",
   "execution_count": null,
   "metadata": {},
   "outputs": [],
   "source": []
  }
 ],
 "metadata": {
  "interpreter": {
   "hash": "247a20dd389031ad3a31b67cc56578c4179d23e70758ad206be72cfb0f155992"
  },
  "kernelspec": {
   "display_name": "Python 3.9.6 ('default')",
   "language": "python",
   "name": "python3"
  },
  "language_info": {
   "codemirror_mode": {
    "name": "ipython",
    "version": 3
   },
   "file_extension": ".py",
   "mimetype": "text/x-python",
   "name": "python",
   "nbconvert_exporter": "python",
   "pygments_lexer": "ipython3",
   "version": "3.9.12"
  },
  "orig_nbformat": 4
 },
 "nbformat": 4,
 "nbformat_minor": 2
}
